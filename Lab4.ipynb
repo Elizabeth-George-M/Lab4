{
  "nbformat": 4,
  "nbformat_minor": 0,
  "metadata": {
    "colab": {
      "provenance": []
    },
    "kernelspec": {
      "name": "python3",
      "display_name": "Python 3"
    },
    "language_info": {
      "name": "python"
    }
  },
  "cells": [
    {
      "cell_type": "code",
      "source": [
        "import pandas as pd\n",
        "import threading\n",
        "import time\n",
        "from mlxtend.frequent_patterns import apriori, association_rules\n",
        "!pip install pyfpgrowth\n",
        "import pyfpgrowth\n",
        "import matplotlib.pyplot as plt\n"
      ],
      "metadata": {
        "colab": {
          "base_uri": "https://localhost:8080/"
        },
        "id": "uhdkKYjqYYUr",
        "outputId": "6b1b84fe-d28c-4336-e0cc-d08f013b1787"
      },
      "execution_count": null,
      "outputs": [
        {
          "output_type": "stream",
          "name": "stderr",
          "text": [
            "/usr/local/lib/python3.10/dist-packages/ipykernel/ipkernel.py:283: DeprecationWarning: `should_run_async` will not call `transform_cell` automatically in the future. Please pass the result to `transformed_cell` argument and any exception that happen during thetransform in `preprocessing_exc_tuple` in IPython 7.17 and above.\n",
            "  and should_run_async(code)\n"
          ]
        },
        {
          "output_type": "stream",
          "name": "stdout",
          "text": [
            "Collecting pyfpgrowth\n",
            "  Downloading pyfpgrowth-1.0.tar.gz (1.6 MB)\n",
            "\u001b[2K     \u001b[90m━━━━━━━━━━━━━━━━━━━━━━━━━━━━━━━━━━━━━━━━\u001b[0m \u001b[32m1.6/1.6 MB\u001b[0m \u001b[31m7.9 MB/s\u001b[0m eta \u001b[36m0:00:00\u001b[0m\n",
            "\u001b[?25h  Preparing metadata (setup.py) ... \u001b[?25l\u001b[?25hdone\n",
            "Building wheels for collected packages: pyfpgrowth\n",
            "  Building wheel for pyfpgrowth (setup.py) ... \u001b[?25l\u001b[?25hdone\n",
            "  Created wheel for pyfpgrowth: filename=pyfpgrowth-1.0-py2.py3-none-any.whl size=5488 sha256=bd4c97f1e0d875ce14eded48b9185fd4f3981e47fd67f4b19e3d7028e96f0a64\n",
            "  Stored in directory: /root/.cache/pip/wheels/09/fc/dc/afff211038bfc745722d8d7e846e854e5791968b22c570a530\n",
            "Successfully built pyfpgrowth\n",
            "Installing collected packages: pyfpgrowth\n",
            "Successfully installed pyfpgrowth-1.0\n"
          ]
        }
      ]
    },
    {
      "cell_type": "code",
      "source": [
        "# Data Preparation\n",
        "data = pd.read_csv(\"/content/Groceries_dataset - Groceries_dataset.csv\")\n",
        "transactions = data.groupby(\"Member_number\")[\"itemDescription\"].apply(list).tolist()\n"
      ],
      "metadata": {
        "colab": {
          "base_uri": "https://localhost:8080/"
        },
        "id": "RW9da2tyYrkg",
        "outputId": "8591dd00-361b-4c64-9e2d-0c048ee33d05"
      },
      "execution_count": null,
      "outputs": [
        {
          "output_type": "stream",
          "name": "stderr",
          "text": [
            "/usr/local/lib/python3.10/dist-packages/ipykernel/ipkernel.py:283: DeprecationWarning: `should_run_async` will not call `transform_cell` automatically in the future. Please pass the result to `transformed_cell` argument and any exception that happen during thetransform in `preprocessing_exc_tuple` in IPython 7.17 and above.\n",
            "  and should_run_async(code)\n"
          ]
        }
      ]
    },
    {
      "cell_type": "code",
      "source": [
        "# Multithreading and Algorithm Implementation\n",
        "def run_fpgrowth(transactions, min_support, min_confidence):\n",
        "    patterns = pyfpgrowth.find_frequent_patterns(transactions, int(min_support * len(transactions)))\n",
        "    rules = pyfpgrowth.generate_association_rules(patterns, min_confidence)\n",
        "    return rules\n",
        "\n",
        "def run_apriori(min_support, min_confidence):\n",
        "    transactions_df = pd.DataFrame(transactions)\n",
        "    transactions_df = transactions_df.fillna(\"\")\n",
        "\n",
        "    frequent_itemsets_apriori = apriori(transactions_df, min_support=min_support, use_colnames=True)\n",
        "    rules_apriori = association_rules(frequent_itemsets_apriori, metric=\"confidence\", min_threshold=min_confidence)\n",
        "    return rules_apriori\n",
        "\n"
      ],
      "metadata": {
        "colab": {
          "base_uri": "https://localhost:8080/"
        },
        "id": "bK3OR1BbY5mS",
        "outputId": "b9ecc208-c41e-44bc-90e6-4d0f242acc69"
      },
      "execution_count": null,
      "outputs": [
        {
          "output_type": "stream",
          "name": "stderr",
          "text": [
            "/usr/local/lib/python3.10/dist-packages/ipykernel/ipkernel.py:283: DeprecationWarning: `should_run_async` will not call `transform_cell` automatically in the future. Please pass the result to `transformed_cell` argument and any exception that happen during thetransform in `preprocessing_exc_tuple` in IPython 7.17 and above.\n",
            "  and should_run_async(code)\n"
          ]
        }
      ]
    },
    {
      "cell_type": "code",
      "source": [
        "# User-defined parameters\n",
        "min_support = 0.05\n",
        "min_confidence = 0.3"
      ],
      "metadata": {
        "colab": {
          "base_uri": "https://localhost:8080/"
        },
        "id": "tewFGJFIY7qu",
        "outputId": "1e6d846e-4b97-478d-c99f-720e8003676f"
      },
      "execution_count": null,
      "outputs": [
        {
          "output_type": "stream",
          "name": "stderr",
          "text": [
            "/usr/local/lib/python3.10/dist-packages/ipykernel/ipkernel.py:283: DeprecationWarning: `should_run_async` will not call `transform_cell` automatically in the future. Please pass the result to `transformed_cell` argument and any exception that happen during thetransform in `preprocessing_exc_tuple` in IPython 7.17 and above.\n",
            "  and should_run_async(code)\n"
          ]
        }
      ]
    },
    {
      "cell_type": "code",
      "source": [
        "# Parallel Execution\n",
        "start_time = time.time()\n",
        "fp_thread = threading.Thread(target=run_fpgrowth, args=(transactions, min_support, min_confidence))\n",
        "apriori_thread = threading.Thread(target=run_apriori, args=(min_support, min_confidence))\n",
        "\n",
        "fp_thread.start()\n",
        "apriori_thread.start()\n",
        "\n",
        "fp_thread.join()\n",
        "apriori_thread.join()\n",
        "\n",
        "end_time = time.time()\n",
        "\n",
        "fp_execution_time = end_time - start_time\n",
        "apriori_execution_time = end_time - start_time  # Calculate Apriori execution time (change this to the correct value)\n"
      ],
      "metadata": {
        "colab": {
          "base_uri": "https://localhost:8080/"
        },
        "id": "N6DfPfsVZGhp",
        "outputId": "42b281ee-e8e9-48c4-8a85-159c0770d9db"
      },
      "execution_count": null,
      "outputs": [
        {
          "output_type": "stream",
          "name": "stderr",
          "text": [
            "/usr/local/lib/python3.10/dist-packages/ipykernel/ipkernel.py:283: DeprecationWarning: `should_run_async` will not call `transform_cell` automatically in the future. Please pass the result to `transformed_cell` argument and any exception that happen during thetransform in `preprocessing_exc_tuple` in IPython 7.17 and above.\n",
            "  and should_run_async(code)\n",
            "/usr/local/lib/python3.10/dist-packages/mlxtend/frequent_patterns/fpcommon.py:110: DeprecationWarning: DataFrames with non-bool types result in worse computationalperformance and their support might be discontinued in the future.Please use a DataFrame with bool type\n",
            "  warnings.warn(\n",
            "Exception in thread Thread-13 (run_apriori):\n",
            "Traceback (most recent call last):\n",
            "  File \"/usr/lib/python3.10/threading.py\", line 1016, in _bootstrap_inner\n",
            "    self.run()\n",
            "  File \"/usr/lib/python3.10/threading.py\", line 953, in run\n",
            "    self._target(*self._args, **self._kwargs)\n",
            "  File \"<ipython-input-8-086a0fecc9ce>\", line 11, in run_apriori\n",
            "  File \"/usr/local/lib/python3.10/dist-packages/mlxtend/frequent_patterns/apriori.py\", line 241, in apriori\n",
            "    fpc.valid_input_check(df)\n",
            "  File \"/usr/local/lib/python3.10/dist-packages/mlxtend/frequent_patterns/fpcommon.py\", line 132, in valid_input_check\n",
            "    raise ValueError(s)\n",
            "ValueError: The allowed values for a DataFrame are True, False, 0, 1. Found value soda\n"
          ]
        }
      ]
    },
    {
      "cell_type": "code",
      "source": [
        "# Data Visualization\n",
        "algorithms = ['FP-growth', 'Apriori']\n",
        "execution_times = [fp_execution_time, apriori_execution_time]\n",
        "\n",
        "plt.bar(algorithms, execution_times)\n",
        "plt.xlabel('Algorithm')\n",
        "plt.ylabel('Execution Time (seconds)')\n",
        "plt.title('Comparison of FP-growth and Apriori Algorithms')\n",
        "plt.show()\n"
      ],
      "metadata": {
        "colab": {
          "base_uri": "https://localhost:8080/",
          "height": 527
        },
        "id": "9NE3jc5YZUf1",
        "outputId": "e4753e9a-a1cb-429c-cdcf-4085e1e6bda7"
      },
      "execution_count": null,
      "outputs": [
        {
          "output_type": "stream",
          "name": "stderr",
          "text": [
            "/usr/local/lib/python3.10/dist-packages/ipykernel/ipkernel.py:283: DeprecationWarning: `should_run_async` will not call `transform_cell` automatically in the future. Please pass the result to `transformed_cell` argument and any exception that happen during thetransform in `preprocessing_exc_tuple` in IPython 7.17 and above.\n",
            "  and should_run_async(code)\n"
          ]
        },
        {
          "output_type": "display_data",
          "data": {
            "text/plain": [
              "<Figure size 640x480 with 1 Axes>"
            ],
            "image/png": "[encoded data removed]"
          },
          "metadata": {}
        }
      ]
    },
    {
      "cell_type": "code",
      "source": [
        "# Recommendation\n",
        "if fp_execution_time < apriori_execution_time:\n",
        "    print(\"Based on execution time comparison, recommend using FP-growth algorithm.\")\n",
        "else:\n",
        "    print(\"Based on execution time comparison, recommend using Apriori algorithm.\")"
      ],
      "metadata": {
        "colab": {
          "base_uri": "https://localhost:8080/"
        },
        "id": "OSWdVK6wZlbZ",
        "outputId": "2e8efc18-2495-45e1-e66a-4fbdd9a9778f"
      },
      "execution_count": null,
      "outputs": [
        {
          "output_type": "stream",
          "name": "stdout",
          "text": [
            "Based on execution time comparison, recommend using Apriori algorithm.\n"
          ]
        },
        {
          "output_type": "stream",
          "name": "stderr",
          "text": [
            "/usr/local/lib/python3.10/dist-packages/ipykernel/ipkernel.py:283: DeprecationWarning: `should_run_async` will not call `transform_cell` automatically in the future. Please pass the result to `transformed_cell` argument and any exception that happen during thetransform in `preprocessing_exc_tuple` in IPython 7.17 and above.\n",
            "  and should_run_async(code)\n"
          ]
        }
      ]
    },
    {
      "cell_type": "code",
      "source": [
        "# Parallel Execution\n",
        "fp_rules = []\n",
        "apriori_rules = []\n",
        "\n",
        "start_time = time.time()\n",
        "fp_thread = threading.Thread(target=lambda: fp_rules.extend(run_fpgrowth(transactions, min_support, min_confidence)))\n",
        "apriori_thread = threading.Thread(target=lambda: apriori_rules.extend(run_apriori(min_support, min_confidence)))\n",
        "\n",
        "fp_thread.start()\n",
        "apriori_thread.start()\n",
        "\n",
        "fp_thread.join()\n",
        "apriori_thread.join()\n",
        "\n",
        "end_time = time.time()\n",
        "\n",
        "fp_execution_time = end_time - start_time\n",
        "# Calculate Apriori execution time (change this to the correct value)\n",
        "apriori_execution_time = end_time - start_time\n",
        "\n",
        "# User-defined parameters\n",
        "min_support = 0.05\n",
        "min_confidence = 0.3\n",
        "\n",
        "# Input minimum support and minimum confidence for association rule mining\n",
        "min_support_ar = float(input(\"Enter minimum support threshold for association rules: \"))\n",
        "min_confidence_ar = float(input(\"Enter minimum confidence threshold for association rules: \"))\n",
        "\n",
        "\n",
        "# Bonus: Association Rule Mining\n",
        "def mine_association_rules(rules, min_support, min_confidence):\n",
        "    filtered_rules = rules[(rules[\"support\"] >= min_support) & (rules[\"confidence\"] >= min_confidence)]\n",
        "    return filtered_rules\n",
        "\n",
        "# Mine association rules using the filtered frequent itemsets from both algorithms\n",
        "filtered_rules_fp = mine_association_rules(fp_rules, min_support_ar, min_confidence_ar)\n",
        "filtered_rules_apriori = mine_association_rules(apriori_rules, min_support_ar, min_confidence_ar)\n",
        "\n",
        "print(\"Association Rules from FP-growth:\")\n",
        "print(filtered_rules_fp)\n",
        "\n",
        "print(\"Association Rules from Apriori:\")\n",
        "print(filtered_rules_apriori)"
      ],
      "metadata": {
        "colab": {
          "base_uri": "https://localhost:8080/",
          "height": 803
        },
        "id": "u-yvD98_adjg",
        "outputId": "3ed48c33-29cf-485d-cb42-6d4299e30844"
      },
      "execution_count": null,
      "outputs": [
        {
          "output_type": "stream",
          "name": "stderr",
          "text": [
            "/usr/local/lib/python3.10/dist-packages/ipykernel/ipkernel.py:283: DeprecationWarning: `should_run_async` will not call `transform_cell` automatically in the future. Please pass the result to `transformed_cell` argument and any exception that happen during thetransform in `preprocessing_exc_tuple` in IPython 7.17 and above.\n",
            "  and should_run_async(code)\n",
            "/usr/local/lib/python3.10/dist-packages/mlxtend/frequent_patterns/fpcommon.py:110: DeprecationWarning: DataFrames with non-bool types result in worse computationalperformance and their support might be discontinued in the future.Please use a DataFrame with bool type\n",
            "  warnings.warn(\n",
            "Exception in thread Thread-17 (<lambda>):\n",
            "Traceback (most recent call last):\n",
            "  File \"/usr/lib/python3.10/threading.py\", line 1016, in _bootstrap_inner\n",
            "    self.run()\n",
            "  File \"/usr/lib/python3.10/threading.py\", line 953, in run\n",
            "    self._target(*self._args, **self._kwargs)\n",
            "  File \"<ipython-input-18-5d5860908f5b>\", line 7, in <lambda>\n",
            "  File \"<ipython-input-8-086a0fecc9ce>\", line 11, in run_apriori\n",
            "  File \"/usr/local/lib/python3.10/dist-packages/mlxtend/frequent_patterns/apriori.py\", line 241, in apriori\n",
            "    fpc.valid_input_check(df)\n",
            "  File \"/usr/local/lib/python3.10/dist-packages/mlxtend/frequent_patterns/fpcommon.py\", line 132, in valid_input_check\n",
            "    raise ValueError(s)\n",
            "ValueError: The allowed values for a DataFrame are True, False, 0, 1. Found value soda\n"
          ]
        },
        {
          "name": "stdout",
          "output_type": "stream",
          "text": [
            "Enter minimum support threshold for association rules: 0.02\n",
            "Enter minimum confidence threshold for association rules: 0.01\n"
          ]
        },
        {
          "output_type": "error",
          "ename": "TypeError",
          "evalue": "ignored",
          "traceback": [
            "\u001b[0;31m---------------------------------------------------------------------------\u001b[0m",
            "\u001b[0;31mTypeError\u001b[0m                                 Traceback (most recent call last)",
            "\u001b[0;32m<ipython-input-18-5d5860908f5b>\u001b[0m in \u001b[0;36m<cell line: 36>\u001b[0;34m()\u001b[0m\n\u001b[1;32m     34\u001b[0m \u001b[0;34m\u001b[0m\u001b[0m\n\u001b[1;32m     35\u001b[0m \u001b[0;31m# Mine association rules using the filtered frequent itemsets from both algorithms\u001b[0m\u001b[0;34m\u001b[0m\u001b[0;34m\u001b[0m\u001b[0m\n\u001b[0;32m---> 36\u001b[0;31m \u001b[0mfiltered_rules_fp\u001b[0m \u001b[0;34m=\u001b[0m \u001b[0mmine_association_rules\u001b[0m\u001b[0;34m(\u001b[0m\u001b[0mfp_rules\u001b[0m\u001b[0;34m,\u001b[0m \u001b[0mmin_support_ar\u001b[0m\u001b[0;34m,\u001b[0m \u001b[0mmin_confidence_ar\u001b[0m\u001b[0;34m)\u001b[0m\u001b[0;34m\u001b[0m\u001b[0;34m\u001b[0m\u001b[0m\n\u001b[0m\u001b[1;32m     37\u001b[0m \u001b[0mfiltered_rules_apriori\u001b[0m \u001b[0;34m=\u001b[0m \u001b[0mmine_association_rules\u001b[0m\u001b[0;34m(\u001b[0m\u001b[0mapriori_rules\u001b[0m\u001b[0;34m,\u001b[0m \u001b[0mmin_support_ar\u001b[0m\u001b[0;34m,\u001b[0m \u001b[0mmin_confidence_ar\u001b[0m\u001b[0;34m)\u001b[0m\u001b[0;34m\u001b[0m\u001b[0;34m\u001b[0m\u001b[0m\n\u001b[1;32m     38\u001b[0m \u001b[0;34m\u001b[0m\u001b[0m\n",
            "\u001b[0;32m<ipython-input-18-5d5860908f5b>\u001b[0m in \u001b[0;36mmine_association_rules\u001b[0;34m(rules, min_support, min_confidence)\u001b[0m\n\u001b[1;32m     30\u001b[0m \u001b[0;31m# Bonus: Association Rule Mining\u001b[0m\u001b[0;34m\u001b[0m\u001b[0;34m\u001b[0m\u001b[0m\n\u001b[1;32m     31\u001b[0m \u001b[0;32mdef\u001b[0m \u001b[0mmine_association_rules\u001b[0m\u001b[0;34m(\u001b[0m\u001b[0mrules\u001b[0m\u001b[0;34m,\u001b[0m \u001b[0mmin_support\u001b[0m\u001b[0;34m,\u001b[0m \u001b[0mmin_confidence\u001b[0m\u001b[0;34m)\u001b[0m\u001b[0;34m:\u001b[0m\u001b[0;34m\u001b[0m\u001b[0;34m\u001b[0m\u001b[0m\n\u001b[0;32m---> 32\u001b[0;31m     \u001b[0mfiltered_rules\u001b[0m \u001b[0;34m=\u001b[0m \u001b[0mrules\u001b[0m\u001b[0;34m[\u001b[0m\u001b[0;34m(\u001b[0m\u001b[0mrules\u001b[0m\u001b[0;34m[\u001b[0m\u001b[0;34m\"support\"\u001b[0m\u001b[0;34m]\u001b[0m \u001b[0;34m>=\u001b[0m \u001b[0mmin_support\u001b[0m\u001b[0;34m)\u001b[0m \u001b[0;34m&\u001b[0m \u001b[0;34m(\u001b[0m\u001b[0mrules\u001b[0m\u001b[0;34m[\u001b[0m\u001b[0;34m\"confidence\"\u001b[0m\u001b[0;34m]\u001b[0m \u001b[0;34m>=\u001b[0m \u001b[0mmin_confidence\u001b[0m\u001b[0;34m)\u001b[0m\u001b[0;34m]\u001b[0m\u001b[0;34m\u001b[0m\u001b[0;34m\u001b[0m\u001b[0m\n\u001b[0m\u001b[1;32m     33\u001b[0m     \u001b[0;32mreturn\u001b[0m \u001b[0mfiltered_rules\u001b[0m\u001b[0;34m\u001b[0m\u001b[0;34m\u001b[0m\u001b[0m\n\u001b[1;32m     34\u001b[0m \u001b[0;34m\u001b[0m\u001b[0m\n",
            "\u001b[0;31mTypeError\u001b[0m: list indices must be integers or slices, not str"
          ]
        }
      ]
    },
    {
      "cell_type": "code",
      "source": [],
      "metadata": {
        "id": "_6exnY1sqGpA"
      },
      "execution_count": null,
      "outputs": []
    }
  ]
}